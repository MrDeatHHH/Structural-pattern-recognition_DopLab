{
 "cells": [
  {
   "cell_type": "code",
   "execution_count": 1,
   "metadata": {},
   "outputs": [
    {
     "name": "stdout",
     "output_type": "stream",
     "text": [
      "Populating the interactive namespace from numpy and matplotlib\n"
     ]
    }
   ],
   "source": [
    "%pylab inline\n",
    "\n",
    "import numpy as np\n",
    "import matplotlib.pyplot as plt\n",
    "import string\n",
    "from PIL import Image, ImageFont, ImageDraw, ImageOps\n",
    "import json\n",
    "from collections import deque\n",
    "import copy\n",
    "from decimal import *\n",
    "\n",
    "getcontext().prec = 100000000"
   ]
  },
  {
   "cell_type": "markdown",
   "metadata": {},
   "source": [
    "## Input"
   ]
  },
  {
   "cell_type": "code",
   "execution_count": 2,
   "metadata": {},
   "outputs": [],
   "source": [
    "# Enter text with lowercase Latin letters and single spaces between words\n",
    "text = \"noisy milk\"\n",
    "noise = 0.2"
   ]
  },
  {
   "cell_type": "markdown",
   "metadata": {},
   "source": [
    "## Process"
   ]
  },
  {
   "cell_type": "code",
   "execution_count": 3,
   "metadata": {},
   "outputs": [],
   "source": [
    "if noise > Decimal(\"0.5\"):\n",
    "    noise = Decimal(\"0.5\")\n",
    "if noise < Decimal(\"0.\"):\n",
    "    noise = Decimal(\"0.\")\n",
    "text = \"a\" + text + \"a\""
   ]
  },
  {
   "cell_type": "markdown",
   "metadata": {},
   "source": [
    "## Paths"
   ]
  },
  {
   "cell_type": "code",
   "execution_count": 4,
   "metadata": {},
   "outputs": [],
   "source": [
    "path_to_frequencies = \"./frequencies.json\""
   ]
  },
  {
   "cell_type": "markdown",
   "metadata": {},
   "source": [
    "## Useful functions"
   ]
  },
  {
   "cell_type": "code",
   "execution_count": 5,
   "metadata": {},
   "outputs": [],
   "source": [
    "def epsilon_close(a, b, epsilon):\n",
    "    return (a < b + epsilon) and (a > b - epsilon)\n",
    "\n",
    "def xor(a, b):\n",
    "    return bool(a) != bool(b)"
   ]
  },
  {
   "cell_type": "markdown",
   "metadata": {},
   "source": [
    "## Initialize alphabet"
   ]
  },
  {
   "cell_type": "code",
   "execution_count": 6,
   "metadata": {
    "scrolled": false
   },
   "outputs": [],
   "source": [
    "def get_img_from_char(c):\n",
    "    font = ImageFont.truetype('RobotoMono-Bold.ttf', 14)\n",
    "    img = Image.new(\"RGB\", (9, 15), None)\n",
    "    img = ImageOps.grayscale(img) \n",
    "    draw = ImageDraw.Draw(img)\n",
    "    draw.text((0, -1), c, font=font, fill=\"white\")\n",
    "    return img\n",
    "\n",
    "alphabet = list(string.ascii_lowercase)\n",
    "# alphabet += list(string.ascii_uppercase)\n",
    "alphabet.append(\" \")\n",
    "alphabet_without_space = list(string.ascii_lowercase)\n",
    "\n",
    "alphabet_images = dict.fromkeys(alphabet)\n",
    "\n",
    "for c in alphabet:\n",
    "    alphabet_images[c] = np.asarray(get_img_from_char(c)).copy()\n",
    "    h, w = alphabet_images[c].shape\n",
    "    for i in range(h):\n",
    "        for j in range(w):\n",
    "            if alphabet_images[c][i][j] < 75:\n",
    "                alphabet_images[c][i][j] = 0\n",
    "            else:\n",
    "                alphabet_images[c][i][j] = 1\n",
    "\n",
    "cheight, cwidth = alphabet_images[' '].shape\n",
    "\n",
    "# for c in alphabet:\n",
    "#     figure(figsize=(10, 10))\n",
    "#     imshow(alphabet_images[c], cmap='gray')\n",
    "#     show()"
   ]
  },
  {
   "cell_type": "markdown",
   "metadata": {},
   "source": [
    "## Frequencies"
   ]
  },
  {
   "cell_type": "code",
   "execution_count": 7,
   "metadata": {
    "scrolled": false
   },
   "outputs": [],
   "source": [
    "probabilities = {}\n",
    "\n",
    "if path_to_frequencies:\n",
    "    json_file = open(path_to_frequencies, 'r')\n",
    "    frequencies = json.load(json_file)\n",
    "    for first_letter in alphabet:\n",
    "        first_letter_amount = 0.\n",
    "        for second_letter in alphabet:\n",
    "            key = first_letter + second_letter\n",
    "            if key in frequencies:\n",
    "                first_letter_amount += frequencies[key]\n",
    "        for second_letter in alphabet:\n",
    "            key = first_letter + second_letter\n",
    "            if key in frequencies:\n",
    "                probabilities[key] = Decimal(str(frequencies[key] / first_letter_amount))\n",
    "            else:\n",
    "                probabilities[key] = Decimal(\"0.\")\n",
    "else:\n",
    "    for first_letter in alphabet:\n",
    "        for second_letter in alphabet:\n",
    "            key = first_letter + second_letter\n",
    "            probabilities[key] = Decimal(str(1. / len(alphabet)))"
   ]
  },
  {
   "cell_type": "markdown",
   "metadata": {},
   "source": [
    "## Generate image from text"
   ]
  },
  {
   "cell_type": "code",
   "execution_count": 8,
   "metadata": {},
   "outputs": [
    {
     "data": {
      "image/png": "[encoded data removed]",
      "text/plain": [
       "<Figure size 720x720 with 1 Axes>"
      ]
     },
     "metadata": {
      "needs_background": "light"
     },
     "output_type": "display_data"
    },
    {
     "data": {
      "image/png": "[encoded data removed]",
      "text/plain": [
       "<Figure size 720x720 with 1 Axes>"
      ]
     },
     "metadata": {
      "needs_background": "light"
     },
     "output_type": "display_data"
    }
   ],
   "source": [
    "img = alphabet_images[text[0]]\n",
    "for c in range(1, len(text)):\n",
    "    img = np.concatenate((img, alphabet_images[text[c]]), axis=1)\n",
    "    \n",
    "h, w = img.shape\n",
    "N = len(text)\n",
    "        \n",
    "figure(figsize=(10, 10))\n",
    "imshow(img[0:h, cwidth:w-cwidth], cmap='gray')\n",
    "show()\n",
    "img_ = Image.fromarray((img[0:h, cwidth:w-cwidth] * 255).astype(numpy.uint8))\n",
    "img_.save(text[1:N-1] + \" \" + str(noise) + \" original.png\")\n",
    "\n",
    "for i in range(h):\n",
    "    for j in range(w):\n",
    "        img[i][j] = xor(img[i][j], (np.random.random() < noise))\n",
    "figure(figsize=(10, 10))\n",
    "imshow(img[0:h, cwidth:w-cwidth], cmap='gray')\n",
    "show()\n",
    "img_ = Image.fromarray((img[0:h, cwidth:w-cwidth] * 255).astype(numpy.uint8))\n",
    "img_.save(text[1:N-1] + \" \" + str(noise) + \" noised.png\")"
   ]
  },
  {
   "cell_type": "markdown",
   "metadata": {},
   "source": [
    "## Solving"
   ]
  },
  {
   "cell_type": "code",
   "execution_count": 9,
   "metadata": {
    "scrolled": false
   },
   "outputs": [
    {
     "data": {
      "image/png": "[encoded data removed]",
      "text/plain": [
       "<Figure size 720x720 with 1 Axes>"
      ]
     },
     "metadata": {
      "needs_background": "light"
     },
     "output_type": "display_data"
    }
   ],
   "source": [
    "def probability_of_letter(letter, number):\n",
    "    probability = 1.\n",
    "    for i in range(cheight):\n",
    "        for j in range(cwidth):\n",
    "            temp1 = noise ** xor(img[i][j + number * cwidth], alphabet_images[letter][i][j])\n",
    "            temp2 = (1 - noise) ** xor(True, xor(img[i][j + number * cwidth], alphabet_images[letter][i][j]))\n",
    "            probability *= temp1 * temp2\n",
    "    return Decimal(str(probability))\n",
    "\n",
    "prob_of_letter = np.empty([len(alphabet), N], dtype=np.dtype(Decimal))\n",
    "for i, c in enumerate(alphabet):\n",
    "    for j in range(N):\n",
    "        prob_of_letter[i][j] = probability_of_letter(c, j)\n",
    "\n",
    "def F(j):\n",
    "    Fs_j = np.empty(j - 1, np.dtype(Decimal))\n",
    "    \n",
    "    f = np.empty((j, len(alphabet_without_space)), np.dtype(Decimal))\n",
    "    for row in range(j):\n",
    "        for el in range(len(alphabet_without_space)):\n",
    "            f[row][el] = Decimal(\"0.\")\n",
    "                \n",
    "    for t, k in enumerate(alphabet_without_space):\n",
    "        f[j - 1][t] = probabilities[k + \" \"]\n",
    "        if j != N - 1:\n",
    "            f[j - 1][t] *= prob_of_letter[len(alphabet) - 1][j]\n",
    "    \n",
    "    for i in range(j - 2, -1, -1):\n",
    "    \n",
    "        if (j - i < 1):\n",
    "            Fs_j[i] = Decimal(\"0.\")\n",
    "        else:\n",
    "\n",
    "            for ij in range(j - 2 - i, 0, -1):\n",
    "                for t, k in enumerate(alphabet_without_space):\n",
    "                    for t_, k_ in enumerate(alphabet_without_space):\n",
    "                        f[ij + i][t] += probabilities[k + k_] * prob_of_letter[t_][ij + 1 + i] * f[ij + i + 1][t_]\n",
    "\n",
    "            ij = 1\n",
    "            if i == 0:\n",
    "                ij = 0\n",
    "                for t, k in enumerate(alphabet_without_space):\n",
    "                    for t_, k_ in enumerate(alphabet_without_space):\n",
    "                        f[ij + i][t] += probabilities[k + k_] * prob_of_letter[t_][ij + 1 + i] * f[ij + i + 1][t_]\n",
    "            result = Decimal(\"0.\")\n",
    "            for t_, k_ in enumerate(alphabet_without_space):\n",
    "                result += probabilities[\" \" + k_] * prob_of_letter[t_][ij + i] * f[ij + i][t_]\n",
    "\n",
    "            Fs_j[i] = result\n",
    "            \n",
    "    return Fs_j\n",
    "\n",
    "Fs = np.empty([N - 1, N], np.dtype(Decimal))\n",
    "for j in range(N):\n",
    "    for i in range(N - 1):\n",
    "        Fs[i][j] = Decimal(\"0.\")\n",
    "\n",
    "for j in range(2, N):\n",
    "    Fs_j = F(j)\n",
    "    for i in range(j - 1):\n",
    "        Fs[i][j] = Fs_j[i]\n",
    "\n",
    "picked_i = np.zeros(N, np.int32)\n",
    "G = np.empty(N, np.dtype(Decimal))\n",
    "for i in range(N):\n",
    "    G[i] = Decimal(\"0.\")\n",
    "G[0] = Decimal(\"1.\")\n",
    "picked_i[0] = -1\n",
    "for j in range(1, N):\n",
    "    best_i = -1\n",
    "    best_G = -1\n",
    "    for i in range(j):\n",
    "        cur = G[i] * Fs[i][j]\n",
    "        if cur > best_G:\n",
    "            best_G = cur\n",
    "            best_i = i\n",
    "    G[j] = G[best_i] * Fs[best_i][j]\n",
    "    picked_i[j] = int(best_i)\n",
    "\n",
    "picked = [picked_i[N - 1]]\n",
    "cur_v = picked[0]\n",
    "while cur_v > 0:\n",
    "    cur_v = picked_i[cur_v]\n",
    "    if cur_v > 0:\n",
    "        picked.append(cur_v)\n",
    "\n",
    "for p in picked:\n",
    "    img[0:cheight, p*cwidth:(p+1)*cwidth] = 1\n",
    "    \n",
    "figure(figsize=(10, 10))\n",
    "imshow(img[0:h, cwidth:w-cwidth], cmap='gray')\n",
    "show()\n",
    "img_ = Image.fromarray((img[0:h, cwidth:w-cwidth] * 255).astype(numpy.uint8))\n",
    "img_.save(text[1:N-1] + \" \" + str(noise) + \" spaces.png\")"
   ]
  },
  {
   "cell_type": "code",
   "execution_count": null,
   "metadata": {},
   "outputs": [],
   "source": []
  }
 ],
 "metadata": {
  "kernelspec": {
   "display_name": "Python 3",
   "language": "python",
   "name": "python3"
  },
  "language_info": {
   "codemirror_mode": {
    "name": "ipython",
    "version": 3
   },
   "file_extension": ".py",
   "mimetype": "text/x-python",
   "name": "python",
   "nbconvert_exporter": "python",
   "pygments_lexer": "ipython3",
   "version": "3.7.0"
  }
 },
 "nbformat": 4,
 "nbformat_minor": 4
}
